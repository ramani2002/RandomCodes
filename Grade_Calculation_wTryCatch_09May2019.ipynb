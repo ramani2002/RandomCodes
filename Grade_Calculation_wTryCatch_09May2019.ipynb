{
 "cells": [
  {
   "cell_type": "code",
   "execution_count": 1,
   "metadata": {},
   "outputs": [
    {
     "name": "stdout",
     "output_type": "stream",
     "text": [
      "Enter your name: ramani\n",
      "Hello ramani\n"
     ]
    }
   ],
   "source": [
    "name = input(\"Enter your name: \")\n",
    "print(\"Hello\", name)"
   ]
  },
  {
   "cell_type": "code",
   "execution_count": 3,
   "metadata": {},
   "outputs": [
    {
     "name": "stdout",
     "output_type": "stream",
     "text": [
      "Enter number of hours you worked: 40\n",
      "Enter your pay rate: 80\n",
      "Your gross pay is:  3200.0\n"
     ]
    }
   ],
   "source": [
    "hours = float(input(\"Enter number of hours you worked: \"))\n",
    "rate = float(input(\"Enter your pay rate: \"))\n",
    "print(\"Your gross pay is: \", hours*rate)"
   ]
  },
  {
   "cell_type": "code",
   "execution_count": 5,
   "metadata": {},
   "outputs": [
    {
     "name": "stdout",
     "output_type": "stream",
     "text": [
      "8 <class 'int'>\n",
      "8.5 <class 'float'>\n",
      "4.0 <class 'float'>\n",
      "11 <class 'int'>\n"
     ]
    }
   ],
   "source": [
    "width= 17\n",
    "height = 12.0\n",
    "print(width//2, type(width//2))\n",
    "print(width/2.0, type(width/2.0))\n",
    "print(height/3, type(height/3))\n",
    "print((1+2*5), type(1+2*5))"
   ]
  },
  {
   "cell_type": "code",
   "execution_count": 69,
   "metadata": {},
   "outputs": [
    {
     "name": "stdout",
     "output_type": "stream",
     "text": [
      "Enter a score between 0.0 and 1.0: 3\n"
     ]
    }
   ],
   "source": [
    "import sys\n",
    "try:\n",
    "    score = float(input(\"Enter a score between 0.0 and 1.0: \"))\n",
    "except:\n",
    "    print(\"Bad score\")\n",
    "if score >= 0.9 and score <= 1.0:\n",
    "    print(\"A\")\n",
    "elif score >= 0.8 and score < 0.9:\n",
    "    print(\"B\")\n",
    "elif score >= 0.7 and score < 0.8:\n",
    "    print(\"C\")\n",
    "elif score >= 0.6 and score < 0.7:\n",
    "    print(\"D\")\n",
    "elif score < 0.6 and score > 0.0:\n",
    "    print(\"F\")"
   ]
  },
  {
   "cell_type": "code",
   "execution_count": 89,
   "metadata": {},
   "outputs": [
    {
     "ename": "SyntaxError",
     "evalue": "invalid syntax (<ipython-input-89-d5fb22e9de1a>, line 13)",
     "output_type": "error",
     "traceback": [
      "\u001b[0;36m  File \u001b[0;32m\"<ipython-input-89-d5fb22e9de1a>\"\u001b[0;36m, line \u001b[0;32m13\u001b[0m\n\u001b[0;31m    elif:\u001b[0m\n\u001b[0m       ^\u001b[0m\n\u001b[0;31mSyntaxError\u001b[0m\u001b[0;31m:\u001b[0m invalid syntax\n"
     ]
    }
   ],
   "source": [
    "try:\n",
    "    score = float(input(\"Enter a score between 0.0 and 1.0: \"))\n",
    "    if score >= 0.9 and score <= 1.0:\n",
    "        print(\"A\")\n",
    "    if score >= 0.8 and score < 0.9:\n",
    "        print(\"B\")\n",
    "    if score >= 0.7 and score < 0.8:\n",
    "        print(\"C\")\n",
    "    if score >= 0.6 and score < 0.7:\n",
    "        print(\"D\")\n",
    "    if score >= 0.0 and score < 0.6:\n",
    "        print(\"F\")\n",
    "elif:\n",
    "    print(\"Bad Score\")\n",
    "    exit(1)   \n",
    "except:\n",
    "    print(\"Bad Score\")\n",
    "    "
   ]
  },
  {
   "cell_type": "code",
   "execution_count": null,
   "metadata": {},
   "outputs": [],
   "source": []
  },
  {
   "cell_type": "code",
   "execution_count": 73,
   "metadata": {},
   "outputs": [
    {
     "ename": "ValueError",
     "evalue": "could not convert string to float: 'K'",
     "output_type": "error",
     "traceback": [
      "\u001b[0;31m---------------------------------------------------------------------------\u001b[0m",
      "\u001b[0;31mValueError\u001b[0m                                Traceback (most recent call last)",
      "\u001b[0;32m<ipython-input-73-081976a622e1>\u001b[0m in \u001b[0;36m<module>\u001b[0;34m\u001b[0m\n\u001b[0;32m----> 1\u001b[0;31m \u001b[0mprint\u001b[0m\u001b[0;34m(\u001b[0m\u001b[0mfloat\u001b[0m\u001b[0;34m(\u001b[0m\u001b[0;34m\"K\"\u001b[0m\u001b[0;34m)\u001b[0m\u001b[0;34m)\u001b[0m\u001b[0;34m\u001b[0m\u001b[0;34m\u001b[0m\u001b[0m\n\u001b[0m",
      "\u001b[0;31mValueError\u001b[0m: could not convert string to float: 'K'"
     ]
    }
   ],
   "source": [
    "print(float(\"K\"))"
   ]
  },
  {
   "cell_type": "code",
   "execution_count": null,
   "metadata": {},
   "outputs": [],
   "source": []
  },
  {
   "cell_type": "code",
   "execution_count": null,
   "metadata": {},
   "outputs": [],
   "source": []
  },
  {
   "cell_type": "code",
   "execution_count": null,
   "metadata": {},
   "outputs": [],
   "source": []
  },
  {
   "cell_type": "code",
   "execution_count": null,
   "metadata": {},
   "outputs": [],
   "source": []
  },
  {
   "cell_type": "code",
   "execution_count": null,
   "metadata": {},
   "outputs": [],
   "source": []
  },
  {
   "cell_type": "code",
   "execution_count": null,
   "metadata": {},
   "outputs": [],
   "source": []
  }
 ],
 "metadata": {
  "kernelspec": {
   "display_name": "Python 3",
   "language": "python",
   "name": "python3"
  },
  "language_info": {
   "codemirror_mode": {
    "name": "ipython",
    "version": 3
   },
   "file_extension": ".py",
   "mimetype": "text/x-python",
   "name": "python",
   "nbconvert_exporter": "python",
   "pygments_lexer": "ipython3",
   "version": "3.7.3"
  }
 },
 "nbformat": 4,
 "nbformat_minor": 2
}
