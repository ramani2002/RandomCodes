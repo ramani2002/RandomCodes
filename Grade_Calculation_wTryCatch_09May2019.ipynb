{
 "cells": [
  {
   "cell_type": "code",
   "execution_count": null,
   "metadata": {},
   "outputs": [],
   "source": [
    "# The code below computes letter grades based upon user input or scores.\n",
    "# Note the sequence of if-elif-else usage.\n",
    "# The try-catch loop is also implemented in this code.\n",
    "\n",
    "try:\n",
    "    score = float(input(\"Enter a score between 0.0 and 1.0: \"))\n",
    "    if score >= 0.9 and score <= 1.0:\n",
    "        print(\"A\")\n",
    "    elif score >= 0.8 and score < 0.9:\n",
    "        print(\"B\")\n",
    "    elif score >= 0.7 and score < 0.8:\n",
    "        print(\"C\")\n",
    "    elif score >= 0.6 and score < 0.7:\n",
    "        print(\"D\")\n",
    "    elif score >= 0.0 and score < 0.6:\n",
    "        print(\"F\")\n",
    "    else:\n",
    "        print(\"Bad Score\")\n",
    "        exit(1)   \n",
    "except:\n",
    "    print(\"Bad Score\")\n",
    "    "
   ]
  }
 ],
 "metadata": {
  "kernelspec": {
   "display_name": "Python 3",
   "language": "python",
   "name": "python3"
  },
  "language_info": {
   "codemirror_mode": {
    "name": "ipython",
    "version": 3
   },
   "file_extension": ".py",
   "mimetype": "text/x-python",
   "name": "python",
   "nbconvert_exporter": "python",
   "pygments_lexer": "ipython3",
   "version": "3.7.3"
  }
 },
 "nbformat": 4,
 "nbformat_minor": 2
}
