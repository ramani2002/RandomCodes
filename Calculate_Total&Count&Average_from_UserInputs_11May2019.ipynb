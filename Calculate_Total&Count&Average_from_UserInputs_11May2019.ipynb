{
 "cells": [
  {
   "cell_type": "code",
   "execution_count": 1,
   "metadata": {},
   "outputs": [
    {
     "name": "stdout",
     "output_type": "stream",
     "text": [
      ">12\n",
      ">34\n",
      ">5\n",
      ">4\n",
      ">done\n",
      "Done!\n",
      "total:  55.0\n",
      "count:  4\n",
      "average:  13.75\n"
     ]
    }
   ],
   "source": [
    "total = 0\n",
    "count = 0\n",
    "average = 0\n",
    "\n",
    "while True:\n",
    "    number = input('>')\n",
    "    if number != 'done':\n",
    "        count = count + 1\n",
    "        total = total + float(number)\n",
    "        average = total/count\n",
    "    elif number == 'done':\n",
    "        break\n",
    "    #print(number)\n",
    "print('Done!')\n",
    "print(\"total: \", total)\n",
    "print(\"count: \", count)\n",
    "print(\"average: \", average)"
   ]
  }
 ],
 "metadata": {
  "kernelspec": {
   "display_name": "Python 3",
   "language": "python",
   "name": "python3"
  },
  "language_info": {
   "codemirror_mode": {
    "name": "ipython",
    "version": 3
   },
   "file_extension": ".py",
   "mimetype": "text/x-python",
   "name": "python",
   "nbconvert_exporter": "python",
   "pygments_lexer": "ipython3",
   "version": "3.7.3"
  }
 },
 "nbformat": 4,
 "nbformat_minor": 2
}
