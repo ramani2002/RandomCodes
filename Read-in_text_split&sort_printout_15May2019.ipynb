{
 "cells": [
  {
   "cell_type": "code",
   "execution_count": 85,
   "metadata": {},
   "outputs": [
    {
     "name": "stdout",
     "output_type": "stream",
     "text": [
      "['But', 'soft', 'what', 'light', 'through', 'yonder', 'window', 'breaks']\n",
      "['It', 'is', 'the', 'east', 'and', 'Juliet', 'is', 'the', 'sun']\n",
      "['Arise', 'fair', 'sun', 'and', 'kill', 'the', 'envious', 'moon']\n",
      "['Who', 'is', 'already', 'sick', 'and', 'pale', 'with', 'grief']\n",
      "The number of sentences is:  4\n",
      "The lists containing words from each sentence is:  ['Who', 'is', 'already', 'sick', 'and', 'pale', 'with', 'grief']\n",
      "The list of all words from all sentences is:  ['But', 'soft', 'what', 'light', 'through', 'yonder', 'window', 'breaks', 'It', 'is', 'the', 'east', 'and', 'Juliet', 'is', 'the', 'sun', 'Arise', 'fair', 'sun', 'and', 'kill', 'the', 'envious', 'moon', 'Who', 'is', 'already', 'sick', 'and', 'pale', 'with', 'grief']\n",
      "is\n",
      "['Arise', 'But', 'It', 'Juliet', 'Who', 'already', 'and', 'and', 'and', 'breaks', 'east', 'envious', 'fair', 'grief', 'is', 'is', 'is', 'kill', 'light', 'moon', 'pale', 'sick', 'soft', 'sun', 'sun', 'the', 'the', 'the', 'through', 'what', 'window', 'with', 'yonder']\n"
     ]
    }
   ],
   "source": [
    "# Read in some text,split&sort it and print out final list.\n",
    "\n",
    "path = '/home/ramani/Documents/Books/Python_for_Everybody_by_CharlesSeverance/'\n",
    "fname = 'romeo'\n",
    "ext = '.txt'\n",
    "\n",
    "fhand = open(path+fname+ext)\n",
    "count = 0\n",
    "wordlist = []\n",
    "for line in fhand:\n",
    "    count = count + 1\n",
    "    line = line.rstrip()\n",
    "    # print(line)\n",
    "    words = line.split() # Splits the line into a list of words\n",
    "    print(words)\n",
    "    #wordlist.append(words) # Creates a list inside a list\n",
    "    wordlist = wordlist + words # Creates one list of all words\n",
    "print('The number of sentences is: ', count)\n",
    "print('The lists containing words from each sentence is: ', words)\n",
    "print('The list of all words from all sentences is: ', wordlist)\n",
    "print(wordlist[9])\n",
    "\n",
    "# Check if each element of wordlist is in words.If not, add element to the words (TO DO)\n",
    "#while count > 0:\n",
    "#    for element in words[count]:\n",
    "#        if element not in wordlist:\n",
    "#            wordlist.append(element)\n",
    "#            count = count + 1\n",
    "#        else:\n",
    "#            break\n",
    "#print('The lists containing words from each sentence is: ', words)          \n",
    "\n",
    "# Sorting the resulting words in an alphabetical order\n",
    "wordlist.sort()\n",
    "print(wordlist)\n"
   ]
  },
  {
   "cell_type": "code",
   "execution_count": null,
   "metadata": {},
   "outputs": [],
   "source": []
  },
  {
   "cell_type": "code",
   "execution_count": null,
   "metadata": {},
   "outputs": [],
   "source": []
  },
  {
   "cell_type": "code",
   "execution_count": null,
   "metadata": {},
   "outputs": [],
   "source": []
  }
 ],
 "metadata": {
  "kernelspec": {
   "display_name": "Python 3",
   "language": "python",
   "name": "python3"
  },
  "language_info": {
   "codemirror_mode": {
    "name": "ipython",
    "version": 3
   },
   "file_extension": ".py",
   "mimetype": "text/x-python",
   "name": "python",
   "nbconvert_exporter": "python",
   "pygments_lexer": "ipython3",
   "version": "3.7.3"
  }
 },
 "nbformat": 4,
 "nbformat_minor": 2
}
