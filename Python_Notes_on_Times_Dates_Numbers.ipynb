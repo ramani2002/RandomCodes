{
 "cells": [
  {
   "cell_type": "markdown",
   "metadata": {},
   "source": [
    "#### There exist two basic modules for dealing with dates and times:\n",
    "#### 'time' and 'datetime' depending upon what is to be achieved. When in doubt use 'datetime.'\n",
    "#### The documentation page for both are:\n",
    "#### https://docs.python.org/3/library/datetime.html, and\n",
    "#### https://docs.python.org/3/library/time.html."
   ]
  },
  {
   "cell_type": "code",
   "execution_count": 12,
   "metadata": {},
   "outputs": [
    {
     "name": "stdout",
     "output_type": "stream",
     "text": [
      "2019-08-27 20:33:40.531951\n",
      "2019-08-28 20:33:40.531951\n",
      "1 day, 0:00:00\n",
      "1\n"
     ]
    }
   ],
   "source": [
    "# The datetime continuum\n",
    "\n",
    "from datetime import datetime\n",
    "\n",
    "datetime.today()\n",
    "now = datetime.today()\n",
    "print(now)\n",
    "\n",
    "from datetime import timedelta\n",
    "\n",
    "print(now + timedelta(days=1)) # Adds the number of days specified by the parameter 'days' to now,\n",
    "                               # or to today's datetime\n",
    "    \n",
    "# Some simple calculations\n",
    "\n",
    "then = now + timedelta(days = 1)\n",
    "print(then - now), \"or,\"\n",
    "print((then-now).days) # Adding '.days' gives the actual number of days between then and now\n"
   ]
  },
  {
   "cell_type": "markdown",
   "metadata": {},
   "source": [
    "### Some Calculations with Dates\n",
    "#### Most times just knowing a date is not enough. It is how the date is used that makes all the difference.\n",
    "#### See below to calculcate the number of days until Christmas"
   ]
  },
  {
   "cell_type": "code",
   "execution_count": 19,
   "metadata": {},
   "outputs": [
    {
     "name": "stdout",
     "output_type": "stream",
     "text": [
      "2019-08-27\n",
      "2019-12-25\n",
      "Days to this year's Christmas is:  120 days, 0:00:00\n",
      "Days to this year's Christmas is:  120 days\n"
     ]
    }
   ],
   "source": [
    "from datetime import date\n",
    "\n",
    "\n",
    "today = date.today()\n",
    "print(today) # This output differs from the output of 'datetime.today()' in that there is only the date in\n",
    "             # format YYYY-MM-DD.\n",
    "    \n",
    "Christmas = date(2019, 12, 25)\n",
    "print(Christmas)\n",
    "\n",
    "print(\"Days to this year's Christmas is: \", (Christmas-today))\n",
    "# To remove the time string:\n",
    "print(\"Days to this year's Christmas is: \", (Christmas-today).days)"
   ]
  },
  {
   "cell_type": "code",
   "execution_count": 3,
   "metadata": {},
   "outputs": [
    {
     "name": "stdout",
     "output_type": "stream",
     "text": [
      "The date in 90 day's time after today is:  2019-11-26 16:00:59.726391\n",
      "The day of the week in 90 day's time after today is:  1\n",
      "1\n",
      "Tuesday\n"
     ]
    }
   ],
   "source": [
    "# WHAT IS THE TIME 90 DAYS FROM TODAY?\n",
    "\n",
    "from datetime import timedelta\n",
    "from datetime import datetime\n",
    "\n",
    "today = datetime.today()\n",
    "\n",
    "later = today + timedelta(days = 90)\n",
    "print(\"The date in 90 day's time after today is: \", later)\n",
    "print(\"The day of the week in 90 day's time after today is: \", later.weekday())\n",
    "\n",
    "# Print the name of the day 90 days from today\n",
    "\n",
    "import calendar\n",
    "\n",
    "dayIndex = later.weekday()\n",
    "print(dayIndex)\n",
    "print(calendar.day_name[dayIndex])\n"
   ]
  },
  {
   "cell_type": "markdown",
   "metadata": {},
   "source": [
    "### Some Calculations with Time"
   ]
  },
  {
   "cell_type": "code",
   "execution_count": 14,
   "metadata": {},
   "outputs": [
    {
     "name": "stdout",
     "output_type": "stream",
     "text": [
      "1567026566.9603517\n",
      "1567026566.9606261\n",
      "0.00027441978454589844\n",
      "The time difference is: 0.00 seconds\n"
     ]
    }
   ],
   "source": [
    "from time import time\n",
    "from datetime import datetime\n",
    "\n",
    "now = time()\n",
    "print(now)\n",
    "\n",
    "then = time()\n",
    "print(then)\n",
    "\n",
    "timeDifference = (then - now)\n",
    "print(timeDifference)\n",
    "\n",
    "print(\"The time difference is: %.2f seconds\" %timeDifference)"
   ]
  },
  {
   "cell_type": "code",
   "execution_count": null,
   "metadata": {},
   "outputs": [],
   "source": []
  },
  {
   "cell_type": "code",
   "execution_count": null,
   "metadata": {},
   "outputs": [],
   "source": []
  },
  {
   "cell_type": "code",
   "execution_count": null,
   "metadata": {},
   "outputs": [],
   "source": []
  }
 ],
 "metadata": {
  "kernelspec": {
   "display_name": "Python 3",
   "language": "python",
   "name": "python3"
  },
  "language_info": {
   "codemirror_mode": {
    "name": "ipython",
    "version": 3
   },
   "file_extension": ".py",
   "mimetype": "text/x-python",
   "name": "python",
   "nbconvert_exporter": "python",
   "pygments_lexer": "ipython3",
   "version": "3.7.3"
  }
 },
 "nbformat": 4,
 "nbformat_minor": 2
}
