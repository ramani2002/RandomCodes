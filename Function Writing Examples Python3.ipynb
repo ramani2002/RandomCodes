{
 "cells": [
  {
   "cell_type": "markdown",
   "metadata": {},
   "source": [
    "##### Function to determine the max and min of three numbers"
   ]
  },
  {
   "cell_type": "code",
   "execution_count": null,
   "metadata": {},
   "outputs": [],
   "source": [
    "def funcmax(a,b,c):\n",
    "    max = a\n",
    "    if b >= max:\n",
    "        max = b\n",
    "    if c > max:\n",
    "        max = c\n",
    "    return max"
   ]
  },
  {
   "cell_type": "code",
   "execution_count": null,
   "metadata": {},
   "outputs": [],
   "source": [
    "funcmax(4,7,2)"
   ]
  },
  {
   "cell_type": "code",
   "execution_count": null,
   "metadata": {},
   "outputs": [],
   "source": [
    "def funcmin(a,b,c):\n",
    "    min = a\n",
    "    if b <= min:\n",
    "        min = b\n",
    "    if c < min:\n",
    "        min = c\n",
    "    return min"
   ]
  },
  {
   "cell_type": "code",
   "execution_count": null,
   "metadata": {},
   "outputs": [],
   "source": [
    "funcmin(4,7,2)"
   ]
  },
  {
   "cell_type": "markdown",
   "metadata": {},
   "source": [
    "#### Function to determine the max (or min) of a list of numbers from user input"
   ]
  },
  {
   "cell_type": "code",
   "execution_count": null,
   "metadata": {},
   "outputs": [],
   "source": [
    "# Develop a list from user input\n",
    "# Note that this is a standard userInput() function that is built for testing and re-use\n",
    "\n",
    "def userInput():\n",
    "    Liszt = []\n",
    "    while True:\n",
    "        ui = input(\"Enter any integer of your choice. Type 'quit' to end.\")\n",
    "        if ui == 'quit':\n",
    "            break\n",
    "        else:\n",
    "            ui.isnumeric() == True\n",
    "            uinum = int(ui)\n",
    "            Liszt.append(uinum)\n",
    "\n",
    "#     print(Liszt)\n",
    "    return Liszt\n",
    "            \n",
    "####### WORKS!!!!!!!!!\n",
    "####### Now take the output of this function into the logic to determine min or max:: SEE BELOW"
   ]
  },
  {
   "cell_type": "code",
   "execution_count": null,
   "metadata": {},
   "outputs": [],
   "source": [
    "# userInput() # This function is called by the 'max/minUserInput()' function below"
   ]
  },
  {
   "cell_type": "code",
   "execution_count": null,
   "metadata": {},
   "outputs": [],
   "source": [
    "# Use the list developed earlier to decide the largest number in the list\n",
    "\n",
    "def maxUserInput(L):\n",
    "    L = userInput() # the function that asks the user to input a string of numbers. There is no need to run the \n",
    "                    # userInput() function before running this function\n",
    "    max = L[0]\n",
    "    print(\"max initial: \", L[0])\n",
    "    for j in range(1, len(L)):\n",
    "        if L[j] >= max:\n",
    "            max = L[j]\n",
    "    return max"
   ]
  },
  {
   "cell_type": "code",
   "execution_count": null,
   "metadata": {},
   "outputs": [],
   "source": [
    "maxUserInput(L)"
   ]
  },
  {
   "cell_type": "markdown",
   "metadata": {},
   "source": [
    "#### Functions fo determine the sum and product of lists entered by the user"
   ]
  },
  {
   "cell_type": "code",
   "execution_count": null,
   "metadata": {},
   "outputs": [],
   "source": [
    "# L = [8, 2, 3, 0, 7]\n",
    "def funclistsum(Lst):\n",
    "    Lst = userInput() # Use the userInput() fuunction developed earlier to get input from user\n",
    "    sum = 0\n",
    "    for element in Lst:\n",
    "        sum = sum + element\n",
    "    return sum\n",
    "\n",
    "def funclistmult(Lst):\n",
    "    Lst = userInput() # Use the userInput() fuunction developed earlier to get input from user\n",
    "    prod = 1\n",
    "    for element in Lst:\n",
    "        prod = prod * element\n",
    "    return prod"
   ]
  },
  {
   "cell_type": "code",
   "execution_count": null,
   "metadata": {},
   "outputs": [],
   "source": [
    "funclistsum(L), funclistmult(L)"
   ]
  },
  {
   "cell_type": "markdown",
   "metadata": {},
   "source": [
    "#### Function to reverse a string"
   ]
  },
  {
   "cell_type": "code",
   "execution_count": null,
   "metadata": {},
   "outputs": [],
   "source": [
    "strng = '123456abcdefg'\n",
    "# print(len(strng), strng[0], strng[len(strng)-1])\n",
    "# revstrng = []\n",
    "# for i in range(len(strng)-1, -1, -1):\n",
    "#         revstrng.append(strng[i])\n",
    "#         reversed_string = ''.join(revstrng)\n",
    "# print(reversed_string)\n",
    "def listreverse(strng):\n",
    "    revstrng = []\n",
    "    for i in range(len(strng)-1, -1, -1):\n",
    "        revstrng.append(strng[i])\n",
    "        reversed_string = ''.join(revstrng)\n",
    "    return reversed_string\n",
    "        "
   ]
  },
  {
   "cell_type": "code",
   "execution_count": null,
   "metadata": {},
   "outputs": [],
   "source": [
    "listreverse(strng)"
   ]
  },
  {
   "cell_type": "code",
   "execution_count": null,
   "metadata": {},
   "outputs": [],
   "source": [
    "# Another way to reverse a string using try-catch\n",
    "\n",
    "while True:\n",
    "    try:\n",
    "        # Note: Python 2.x users should use raw_input, the equivalent of 3.x's input\n",
    "        age = int(input(\"Please enter your age: \"))\n",
    "    except ValueError:\n",
    "        print(\"Sorry, I didn't understand that.\")\n",
    "        #better try again... Return to the start of the loop\n",
    "        continue\n",
    "    else:\n",
    "        #age was successfully parsed!\n",
    "        #we're ready to exit the loop.\n",
    "        break\n",
    "if age >= 18: \n",
    "    print(\"You are able to vote in the United States!\")\n",
    "else:\n",
    "    print(\"You are not able to vote in the United States.\")\n",
    "    \n",
    "# Using Recursion to replace the above while loop\n",
    "\n",
    "def get_non_negative_int():\n",
    "    try:\n",
    "        value = int(input(\"Enter a non-negative integer\"))\n",
    "    except ValueError:\n",
    "        print(\"Sorry, I didn't understand that.\")\n",
    "        return get_non_negative_int(prompt)\n",
    "\n",
    "    if value < 0:\n",
    "        print(\"Sorry, your response must not be negative.\")\n",
    "        return get_non_negative_int()\n",
    "    else:\n",
    "        return value"
   ]
  },
  {
   "cell_type": "markdown",
   "metadata": {},
   "source": []
  },
  {
   "cell_type": "markdown",
   "metadata": {},
   "source": [
    "#### Function to Calculate Factorial"
   ]
  },
  {
   "cell_type": "code",
   "execution_count": null,
   "metadata": {},
   "outputs": [],
   "source": []
  },
  {
   "cell_type": "markdown",
   "metadata": {},
   "source": [
    "#### Function to Display Outputs for Arithmetic Operators +, -, 'prod', /, //, **, and %"
   ]
  },
  {
   "cell_type": "code",
   "execution_count": null,
   "metadata": {},
   "outputs": [],
   "source": [
    "# Get user inputs\n",
    "\n",
    "def uI():\n",
    "    counter = 0\n",
    "    containr = []\n",
    "    while counter != 2:\n",
    "        nbr = int(input(\"Enter an integer of your choice: \"))\n",
    "        containr.append(nbr)\n",
    "        counter += 1\n",
    "    return containr\n",
    "\n",
    "# Take the user inputs into another function to determine values of each arithmetic operator\n",
    "    \n",
    "def rithmetics(list):\n",
    "    number = uI()\n",
    "    a = number[0]\n",
    "    b = number[1]\n",
    "    return a+b, a-b, a*b, round(a/b, 5), a//b, a**b, a%b"
   ]
  },
  {
   "cell_type": "code",
   "execution_count": null,
   "metadata": {},
   "outputs": [],
   "source": [
    "rithmetics(list)"
   ]
  },
  {
   "cell_type": "markdown",
   "metadata": {},
   "source": [
    "#### Function to Determine whether 1024 is a multiple of 4"
   ]
  },
  {
   "cell_type": "code",
   "execution_count": null,
   "metadata": {},
   "outputs": [],
   "source": [
    "# Get user inputs, neet two inputs to determine factors\n",
    "\n",
    "def uI():\n",
    "    counter = 0\n",
    "    containr = []\n",
    "    while counter != 2:\n",
    "        nbr = int(input(\"You have to enter two integers of your choice such that \\\n",
    "                        the second integer must be less than or equal to half the first integer \\\n",
    "                        and the second integer cannot be zero: \"))\n",
    "        containr.append(nbr)\n",
    "        counter += 1\n",
    "    return containr\n",
    "\n",
    "# Check to see if the two numbers entered are such that the first is more than twice the second\n",
    "\n",
    "def uIChek(list):\n",
    "    numbrs = uI()\n",
    "    firstnmbr = numbrs[0]\n",
    "    secondnmbr = numbrs[1]\n",
    "    if firstnmbr >= secondnmbr:\n",
    "        print(\"Good! The first number is greater than the second number!\")\n",
    "    if 2*secondnmbr > firstnmbr:\n",
    "        print(\"Ouch! The second number you entered is more than half the first number.\")\n",
    "    if secondnmbr == 0:\n",
    "        print(\"Bummer! Division by zero is not allowed.\")\n",
    "    else:\n",
    "        return numbrs\n",
    "\n",
    "# Once the numbrs have passed the checks then pull them into determining multiples or factors\n",
    "\n",
    "# def mult():\n",
    "    "
   ]
  },
  {
   "cell_type": "code",
   "execution_count": null,
   "metadata": {},
   "outputs": [],
   "source": [
    "uIChek(list)"
   ]
  },
  {
   "cell_type": "code",
   "execution_count": null,
   "metadata": {},
   "outputs": [],
   "source": [
    "numbrs = (0,1,2,3,4,5)\n",
    "# print(numbrs)\n",
    "print(\"number\",\"square\",\"cube\")\n",
    "for i in numbrs:\n",
    "#     print(\"number\", \"square\", \"cube\")\n",
    "    print(numbrs[i]**1, \"\\t\", numbrs[i]**2, \"\\t\", numbrs[i]**3)"
   ]
  },
  {
   "cell_type": "code",
   "execution_count": null,
   "metadata": {},
   "outputs": [],
   "source": [
    "# LOGIC behind picking off numbers in a number string input from the user\n",
    "# d3 = 2345\n",
    "# a00 = d3//1000 # Gets the digit 2\n",
    "# print(a00)\n",
    "# a20 = (d3//100)%10  # Gets the digit 3\n",
    "# print(a20)\n",
    "# a30 = (d3//10)%10 # Gets the digit 4\n",
    "# print(a30)\n",
    "# a40 = d3%10 # Gets the digit 5\n",
    "# print(a40)\n",
    "\n",
    "# d4 = 56789\n",
    "# dig = int(input(\"Enter a Five Digit Number: \"))\n",
    "x = ''\n",
    "def separatingDigits(d):\n",
    "    '''The following arithmetical operations picks off the digit from left to right'''\n",
    "#     A = d4//10000\n",
    "    A = dig//10000\n",
    "#     print(A) # Gets the 10,000th digit - 5\n",
    "#     B = (d4//1000)%10\n",
    "    B = (dig//1000)%10\n",
    "#     print(B)\n",
    "#     C = (d4//100)%10 # Gets the digit in the 100th place = 7\n",
    "    C = (dig//100)%10\n",
    "#     print(C)\n",
    "#     D = (d4//10)%10 # Gets the digit in the tens place = 8\n",
    "    D = (dig//10)%10\n",
    "#     print(D)\n",
    "#     E = d4%10 # Gets the digit in the ones place = 9\n",
    "    E = dig%10\n",
    "#     print(E)\n",
    "    print(A, B, C, D, E, sep = '   ') # or\n",
    "    print(A, 3*x, B, 3*x, C, 3*x, D, 3*x, E)\n",
    "#     return str(A)+'   '+str(B)+'   '+str(C)+'   '+str(D)+'   '+str(E)\n",
    "    "
   ]
  },
  {
   "cell_type": "code",
   "execution_count": null,
   "metadata": {},
   "outputs": [],
   "source": [
    "dig = int(input(\"Enter a Five Digit Number: \"))\n",
    "separatingDigits(dig)"
   ]
  },
  {
   "cell_type": "code",
   "execution_count": null,
   "metadata": {},
   "outputs": [],
   "source": [
    "strng = 'BCDbcd012$*+'\n",
    "lszt = list(strng)\n",
    "print(lszt)\n",
    "for char in lszt:\n",
    "#     print(char)\n",
    "    print(char, ord(char), end = ', ')"
   ]
  },
  {
   "cell_type": "markdown",
   "metadata": {},
   "source": [
    "#### Investment Return"
   ]
  },
  {
   "cell_type": "code",
   "execution_count": null,
   "metadata": {},
   "outputs": [],
   "source": [
    "def InvRetrn(p, r, n): # p: principal, r: annual rate of return expressed in decimal, n: number of years\n",
    "    '''a: Amount on deposit at the end of the nth year. To be calculated.'''\n",
    "    a = p*(1+r)**n\n",
    "    return a"
   ]
  },
  {
   "cell_type": "code",
   "execution_count": null,
   "metadata": {},
   "outputs": [],
   "source": [
    "p = float(input(\"Enter the principal amount: \"))\n",
    "r = float(input(\"Enter the annual rate of return in percent format\"))/100\n",
    "n = int(input(\"Enter the number of years\"))\n",
    "InvRetrn(p, r, n)"
   ]
  },
  {
   "cell_type": "markdown",
   "metadata": {},
   "source": [
    "#### Arithmetic, Smallest and Largest"
   ]
  },
  {
   "cell_type": "code",
   "execution_count": 50,
   "metadata": {},
   "outputs": [],
   "source": [
    "def UserInput():\n",
    "    counter = 0\n",
    "    containr = []\n",
    "    while counter != 3: # We need three numbers from the user\n",
    "        nbr = int(input(\"Need three numbers. Enter a number of your choice: \"))\n",
    "        containr.append(nbr)\n",
    "        counter += 1\n",
    "    return containr, \"Thank You!\"\n",
    "\n",
    "def RithSmlstLrgst():\n",
    "    C = UserInput()[0]\n",
    "    print(C)\n",
    "    print(C[0], C[1], C[2], len(C))\n",
    "    sm = 0 # Sum\n",
    "    avg = 0 # Average\n",
    "    prod = 1 # Product\n",
    "    smllst = C[0] # Smallest\n",
    "    lrgst = C[0] # Largest\n",
    "    for elmt in range(0, len(C)):\n",
    "        sm += C[elmt]\n",
    "        avg = sm/len(C)\n",
    "        prod *= C[elmt]\n",
    "        if C[elmt] <= smllst:\n",
    "            smllst = C[elmt]\n",
    "        if C[elmt] >= lrgst:\n",
    "            lrgst = C[elmt]\n",
    "    return \"The sum is: \" + str(sm), \"The Average is: \" + str(avg), \"The Product is: \" + str(prod), \\\n",
    "        \"The Smallest number is: \" + str(smllst), \"The Largest number is: \" + str(lrgst)"
   ]
  },
  {
   "cell_type": "code",
   "execution_count": 53,
   "metadata": {},
   "outputs": [
    {
     "name": "stdout",
     "output_type": "stream",
     "text": [
      "Need three numbers. Enter a number of your choice: -54\n",
      "Need three numbers. Enter a number of your choice: 7\n",
      "Need three numbers. Enter a number of your choice: 300\n",
      "[-54, 7, 300]\n",
      "-54 7 300 3\n"
     ]
    },
    {
     "data": {
      "text/plain": [
       "('The sum is: 253',\n",
       " 'The Average is: 84.33333333333333',\n",
       " 'The Product is: -113400',\n",
       " 'The Smallest number is: -54',\n",
       " 'The Largest number is: 300')"
      ]
     },
     "execution_count": 53,
     "metadata": {},
     "output_type": "execute_result"
    }
   ],
   "source": [
    "# UserInput()\n",
    "RithSmlstLrgst()"
   ]
  },
  {
   "cell_type": "markdown",
   "metadata": {},
   "source": [
    "#### Function to Calculate Target Heart Rate"
   ]
  },
  {
   "cell_type": "code",
   "execution_count": 80,
   "metadata": {},
   "outputs": [],
   "source": [
    "def TrgtHrtRteCalc():\n",
    "    age = int(input(\"Enter Your Current Age: \"))\n",
    "    Max_Hrt_Rte = 122 - age\n",
    "    Lower_Trgt_Hrt_Rte = (50/100)*Max_Hrt_Rte\n",
    "    Upper_Trgt_Hrt_Rte = (85/100)*Max_Hrt_Rte\n",
    "    return \"Your Maximum Heart Rate is: \" + str(Max_Hrt_Rte) + \" beats per minute (BPM)\", \\\n",
    "    \"Your Target Heart Rate Range is: \" + str(Lower_Trgt_Hrt_Rte) + \" to \" + str(Upper_Trgt_Hrt_Rte) + \\\n",
    "    \" beats per minute (BPM)\""
   ]
  },
  {
   "cell_type": "code",
   "execution_count": 81,
   "metadata": {},
   "outputs": [
    {
     "name": "stdout",
     "output_type": "stream",
     "text": [
      "Enter Your Current Age: 54\n"
     ]
    },
    {
     "data": {
      "text/plain": [
       "('Your Maximum Heart Rate is: 68 beats per minute (BPM)',\n",
       " 'Your Target Heart Rate Range is: 34.0 to 57.8 beats per minute (BPM)')"
      ]
     },
     "execution_count": 81,
     "metadata": {},
     "output_type": "execute_result"
    }
   ],
   "source": [
    "TrgtHrtRteCalc()"
   ]
  },
  {
   "cell_type": "markdown",
   "metadata": {},
   "source": [
    "#### Sort in Ascending Order"
   ]
  },
  {
   "cell_type": "code",
   "execution_count": 82,
   "metadata": {},
   "outputs": [
    {
     "name": "stdout",
     "output_type": "stream",
     "text": [
      "Please enter the Total Number of List Elements: 6\n",
      "Please enter the Value of 1 Element : 1\n",
      "Please enter the Value of 2 Element : 2\n",
      "Please enter the Value of 3 Element : 3\n",
      "Please enter the Value of 4 Element : 4\n",
      "Please enter the Value of 5 Element : 5\n",
      "Please enter the Value of 6 Element : 5\n",
      "Element After Sorting List in Ascending Order is :  [1, 2, 3, 4, 5, 5]\n"
     ]
    }
   ],
   "source": [
    "# Python Program to Sort List in Ascending Order\n",
    "\n",
    "NumList = []\n",
    "\n",
    "Number = int(input(\"Please enter the Total Number of List Elements: \"))\n",
    "for i in range(1, Number + 1):\n",
    "    value = int(input(\"Please enter the Value of %d Element : \" %i))\n",
    "    NumList.append(value)\n",
    "\n",
    "for i in range (Number):\n",
    "    for j in range(i + 1, Number):\n",
    "        if(NumList[i] > NumList[j]):\n",
    "            temp = NumList[i]\n",
    "            NumList[i] = NumList[j]\n",
    "            NumList[j] = temp\n",
    "\n",
    "print(\"Element After Sorting List in Ascending Order is : \", NumList)"
   ]
  },
  {
   "cell_type": "code",
   "execution_count": null,
   "metadata": {},
   "outputs": [],
   "source": []
  }
 ],
 "metadata": {
  "kernelspec": {
   "display_name": "Python 3",
   "language": "python",
   "name": "python3"
  },
  "language_info": {
   "codemirror_mode": {
    "name": "ipython",
    "version": 3
   },
   "file_extension": ".py",
   "mimetype": "text/x-python",
   "name": "python",
   "nbconvert_exporter": "python",
   "pygments_lexer": "ipython3",
   "version": "3.7.7"
  }
 },
 "nbformat": 4,
 "nbformat_minor": 4
}
