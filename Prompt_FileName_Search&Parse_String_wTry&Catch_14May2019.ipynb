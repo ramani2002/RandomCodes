{
 "cells": [
  {
   "cell_type": "code",
   "execution_count": null,
   "metadata": {},
   "outputs": [],
   "source": [
    "\"\"\"Make sure the file-path is correct and specified\"\"\"\n",
    "path = '/home/ramani/Documents/Books/Python_for_Everybody_by_CharlesSeverance/'\n",
    "ext = '.txt' # Creating a variable for the file extension gives more flexibility\n",
    "fname = input(\"Enter filename: \")\n",
    "try:\n",
    "    fhand = open(path + fname + ext)\n",
    "    count = 0\n",
    "    spamConf = 0\n",
    "    spamConf_total = 0\n",
    "    spamConf_average = 0\n",
    "    for line in fhand:\n",
    "        line = line.rstrip()\n",
    "        if line.startswith('X-DSPAM-Confidence:') is True:\n",
    "            count = count + 1\n",
    "            colonposition = line.find(':')\n",
    "            spamConf = float(line[colonposition+1:])\n",
    "            #spamConf_total = spamConf\n",
    "            spamConf_total = spamConf_total + spamConf\n",
    "    spamConf_average = spamConf_total/count\n",
    "    print('Average spam confidence: ', spamConf_average)\n",
    "except:\n",
    "    print('File cannot be opened: ', fname)\n",
    "    exit(1)"
   ]
  }
 ],
 "metadata": {
  "kernelspec": {
   "display_name": "Python 3",
   "language": "python",
   "name": "python3"
  },
  "language_info": {
   "codemirror_mode": {
    "name": "ipython",
    "version": 3
   },
   "file_extension": ".py",
   "mimetype": "text/x-python",
   "name": "python",
   "nbconvert_exporter": "python",
   "pygments_lexer": "ipython3",
   "version": "3.7.3"
  }
 },
 "nbformat": 4,
 "nbformat_minor": 2
}
